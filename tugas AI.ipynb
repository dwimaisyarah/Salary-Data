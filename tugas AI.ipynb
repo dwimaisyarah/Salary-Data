{
 "cells": [
  {
   "cell_type": "markdown",
   "id": "6afbfc32-2365-4cae-a835-73587361aa29",
   "metadata": {},
   "source": [
    "Menampilkan dataset menggunakan library pandas yang terletlak dalam file C:\\AI dengan nama Salary_Data"
   ]
  },
  {
   "cell_type": "code",
   "execution_count": 118,
   "id": "226aa62d-1439-4e99-88e4-59ab70ab5728",
   "metadata": {},
   "outputs": [
    {
     "name": "stdout",
     "output_type": "stream",
     "text": [
      "    YearsExperience    Salary\n",
      "0                11   3934300\n",
      "1                13   4620500\n",
      "2                15   3773100\n",
      "3                20   4352500\n",
      "4                22   3989100\n",
      "5                29   5664200\n",
      "6                30   6015000\n",
      "7                32   5444500\n",
      "8                32   6444500\n",
      "9                37   5718900\n",
      "10               39   6321800\n",
      "11               40   5579400\n",
      "12               40   5695700\n",
      "13               41   5708100\n",
      "14               45   6111100\n",
      "15               49   6793800\n",
      "16               51   6602900\n",
      "17               53   8308800\n",
      "18               59   8136300\n",
      "19               60   9394000\n",
      "20               68   9173800\n",
      "21               71   9827300\n",
      "22               79  10130200\n",
      "23               82  11381200\n",
      "24               87  10943100\n",
      "25               90  10558200\n",
      "26               95  11696900\n",
      "27               96  11263500\n",
      "28              103  12239100\n",
      "29              105  12187200\n"
     ]
    }
   ],
   "source": [
    "import pandas as pd\n",
    "dataset = pd.read_csv('C:\\\\AI\\\\Salary_Data.csv', sep=';')\n",
    "print(dataset)"
   ]
  },
  {
   "cell_type": "code",
   "execution_count": null,
   "id": "4ee680d6-bb92-4c1d-8668-4d69e8fd1a17",
   "metadata": {},
   "outputs": [],
   "source": [
    "Menampilkan kolom dalam dataset"
   ]
  },
  {
   "cell_type": "code",
   "execution_count": 119,
   "id": "d4b1d98b-1190-4a21-80b0-ca385b02ca42",
   "metadata": {},
   "outputs": [
    {
     "data": {
      "text/plain": [
       "Index(['YearsExperience', 'Salary'], dtype='object')"
      ]
     },
     "execution_count": 119,
     "metadata": {},
     "output_type": "execute_result"
    }
   ],
   "source": [
    "dataset.columns"
   ]
  },
  {
   "cell_type": "code",
   "execution_count": null,
   "id": "f0859c25-dc26-48cc-b476-6699a5a81b45",
   "metadata": {},
   "outputs": [],
   "source": [
    "membagi data (x) dan target (y)"
   ]
  },
  {
   "cell_type": "code",
   "execution_count": 93,
   "id": "1a2997c2-9366-430f-ab25-8978cd5578be",
   "metadata": {},
   "outputs": [
    {
     "name": "stdout",
     "output_type": "stream",
     "text": [
      "0      11\n",
      "1      13\n",
      "2      15\n",
      "3      20\n",
      "4      22\n",
      "5      29\n",
      "6      30\n",
      "7      32\n",
      "8      32\n",
      "9      37\n",
      "10     39\n",
      "11     40\n",
      "12     40\n",
      "13     41\n",
      "14     45\n",
      "15     49\n",
      "16     51\n",
      "17     53\n",
      "18     59\n",
      "19     60\n",
      "20     68\n",
      "21     71\n",
      "22     79\n",
      "23     82\n",
      "24     87\n",
      "25     90\n",
      "26     95\n",
      "27     96\n",
      "28    103\n",
      "29    105\n",
      "Name: YearsExperience, dtype: int64\n"
     ]
    }
   ],
   "source": [
    "X = dataset['YearsExperience']\n",
    "print(X)"
   ]
  },
  {
   "cell_type": "code",
   "execution_count": null,
   "id": "70ccacb0-8400-498e-864d-a468d6a62e71",
   "metadata": {},
   "outputs": [],
   "source": [
    "Menampilkan informasi tentang dataset"
   ]
  },
  {
   "cell_type": "code",
   "execution_count": 19,
   "id": "cf87c8ff-9927-4e7d-a94b-007ddb31e050",
   "metadata": {},
   "outputs": [
    {
     "name": "stdout",
     "output_type": "stream",
     "text": [
      "<class 'pandas.core.frame.DataFrame'>\n",
      "RangeIndex: 30 entries, 0 to 29\n",
      "Data columns (total 2 columns):\n",
      " #   Column           Non-Null Count  Dtype\n",
      "---  ------           --------------  -----\n",
      " 0   YearsExperience  30 non-null     int64\n",
      " 1   Salary           30 non-null     int64\n",
      "dtypes: int64(2)\n",
      "memory usage: 612.0 bytes\n",
      "None\n"
     ]
    }
   ],
   "source": [
    "print (dataset.info())"
   ]
  },
  {
   "cell_type": "code",
   "execution_count": 20,
   "id": "7a66cf7d-2459-49f5-890b-98addce4deee",
   "metadata": {},
   "outputs": [
    {
     "name": "stdout",
     "output_type": "stream",
     "text": [
      "0      3934300\n",
      "1      4620500\n",
      "2      3773100\n",
      "3      4352500\n",
      "4      3989100\n",
      "5      5664200\n",
      "6      6015000\n",
      "7      5444500\n",
      "8      6444500\n",
      "9      5718900\n",
      "10     6321800\n",
      "11     5579400\n",
      "12     5695700\n",
      "13     5708100\n",
      "14     6111100\n",
      "15     6793800\n",
      "16     6602900\n",
      "17     8308800\n",
      "18     8136300\n",
      "19     9394000\n",
      "20     9173800\n",
      "21     9827300\n",
      "22    10130200\n",
      "23    11381200\n",
      "24    10943100\n",
      "25    10558200\n",
      "26    11696900\n",
      "27    11263500\n",
      "28    12239100\n",
      "29    12187200\n",
      "Name: Salary, dtype: int64\n"
     ]
    }
   ],
   "source": [
    "y = dataset['Salary']\n",
    "print(y)"
   ]
  },
  {
   "cell_type": "code",
   "execution_count": null,
   "id": "de75dd81-2799-411e-9730-ab40b0ebf64f",
   "metadata": {},
   "outputs": [],
   "source": [
    "membagi data menjadi 80:20. Data train 80% dan data test 20%"
   ]
  },
  {
   "cell_type": "code",
   "execution_count": 111,
   "id": "893a02bc-db84-4474-83a8-585a6a722038",
   "metadata": {},
   "outputs": [],
   "source": [
    "import sklearn\n",
    "from sklearn.model_selection import train_test_split\n",
    "\n",
    "x_train, x_test, y_train, y_test = train_test_split(x, y, test_size=0.2, random_state=1)"
   ]
  },
  {
   "cell_type": "code",
   "execution_count": null,
   "id": "0f6c0857-f79d-4efc-85d8-1d0eec676d4c",
   "metadata": {},
   "outputs": [],
   "source": [
    "menghitung jumlah elemen dalam array x"
   ]
  },
  {
   "cell_type": "code",
   "execution_count": 112,
   "id": "08f8d0d1-1f04-488e-9776-20644c116ecf",
   "metadata": {},
   "outputs": [
    {
     "data": {
      "text/plain": [
       "6"
      ]
     },
     "execution_count": 112,
     "metadata": {},
     "output_type": "execute_result"
    }
   ],
   "source": [
    "len(x_test)"
   ]
  },
  {
   "cell_type": "code",
   "execution_count": null,
   "id": "f782ade9-a212-4dd7-8df4-b8dab200f5b7",
   "metadata": {},
   "outputs": [],
   "source": [
    "menghitung jumlah elemen dalam array y"
   ]
  },
  {
   "cell_type": "code",
   "execution_count": 113,
   "id": "4a2cc865-641c-4c5b-be7c-ace6fe85483e",
   "metadata": {},
   "outputs": [
    {
     "data": {
      "text/plain": [
       "24"
      ]
     },
     "execution_count": 113,
     "metadata": {},
     "output_type": "execute_result"
    }
   ],
   "source": [
    "len(y_train)"
   ]
  },
  {
   "cell_type": "code",
   "execution_count": null,
   "id": "c18e8f48-08db-4549-a008-38193cf54fd3",
   "metadata": {},
   "outputs": [],
   "source": [
    "membuat model Decision Tree Classifier menggunakan library scikit learn"
   ]
  },
  {
   "cell_type": "code",
   "execution_count": 114,
   "id": "2e4976bc-dd96-4eed-945d-7bcc40150f0b",
   "metadata": {},
   "outputs": [],
   "source": [
    "from sklearn import tree\n",
    "\n",
    "clf = tree.DecisionTreeClassifier()"
   ]
  },
  {
   "cell_type": "code",
   "execution_count": null,
   "id": "56820b16-3889-4293-95fe-15e8e4e4f131",
   "metadata": {},
   "outputs": [],
   "source": [
    "tahap proses cross validasi"
   ]
  },
  {
   "cell_type": "code",
   "execution_count": 115,
   "id": "36bb8a82-9a6b-42bb-be49-6c4d984f64f1",
   "metadata": {},
   "outputs": [],
   "source": [
    "from sklearn.model_selection import cross_val_score\n",
    "from sklearn.linear_model import LinearRegression\n",
    "from sklearn.model_selection import KFold\n",
    "\n",
    "# Ubah bentuk X menjadi dua dimensi\n",
    "X = X.reshape(-1, 1)\n",
    "# Pilih model yang ingin Anda gunakan\n",
    "model = LinearRegression()\n",
    "\n",
    "# Tentukan skema validasi silang\n",
    "kf = KFold(n_splits=5, shuffle=True, random_state=42)\n",
    "\n",
    "\n",
    "# Hitung skor validasi silang\n",
    "scores = cross_val_score(model, X, y, cv=kf)\n",
    "\n"
   ]
  },
  {
   "cell_type": "code",
   "execution_count": null,
   "id": "8446057d-80a9-4a1a-8cd6-f753a6df0a68",
   "metadata": {},
   "outputs": [],
   "source": [
    "Melihat tingkat akurasi pengujian setiap volt dataset"
   ]
  },
  {
   "cell_type": "code",
   "execution_count": 116,
   "id": "c05e8e45-ac25-4710-97c4-2493fb3236e7",
   "metadata": {},
   "outputs": [
    {
     "data": {
      "text/plain": [
       "array([0.90244618, 0.96846325, 0.91621488, 0.98161851, 0.84333552])"
      ]
     },
     "execution_count": 116,
     "metadata": {},
     "output_type": "execute_result"
    }
   ],
   "source": [
    "scores"
   ]
  }
 ],
 "metadata": {
  "kernelspec": {
   "display_name": "Python 3 (ipykernel)",
   "language": "python",
   "name": "python3"
  },
  "language_info": {
   "codemirror_mode": {
    "name": "ipython",
    "version": 3
   },
   "file_extension": ".py",
   "mimetype": "text/x-python",
   "name": "python",
   "nbconvert_exporter": "python",
   "pygments_lexer": "ipython3",
   "version": "3.11.7"
  }
 },
 "nbformat": 4,
 "nbformat_minor": 5
}
